{
 "cells": [
  {
   "cell_type": "markdown",
   "metadata": {},
   "source": [
    "# Homework 1 Clustering and Regression"
   ]
  },
  {
   "cell_type": "markdown",
   "metadata": {},
   "source": [
    "## import relevant library"
   ]
  },
  {
   "cell_type": "code",
   "execution_count": 381,
   "metadata": {},
   "outputs": [],
   "source": [
    "import numpy as np\n",
    "import matplotlib.pyplot as plt\n",
    "from sklearn.cluster import KMeans\n",
    "import pandas as pd\n",
    "import os"
   ]
  },
  {
   "cell_type": "markdown",
   "metadata": {},
   "source": [
    "## 1. Clustering\n",
    "Using K-means clustering technique to cluster the given samples and answer the questions."
   ]
  },
  {
   "cell_type": "markdown",
   "metadata": {},
   "source": [
    "Setting up the samples"
   ]
  },
  {
   "cell_type": "code",
   "execution_count": 382,
   "metadata": {},
   "outputs": [
    {
     "data": {
      "image/png": "[encoded data removed]",
      "text/plain": [
       "<Figure size 640x480 with 1 Axes>"
      ]
     },
     "metadata": {},
     "output_type": "display_data"
    }
   ],
   "source": [
    "x = np.array([1, 3, 2, 8, 6, 7, -3, -2, -7], dtype=float)\n",
    "y = np.array([2, 3, 2, 8, 6, 7, -3, -4, -7], dtype=float)\n",
    "clusterTag = ['green', 'blue', 'orange']\n",
    "dataClusterTag = np.ones(9, dtype=int)\n",
    "plt.scatter(x, y)\n",
    "\n",
    "#init centroid 1\n",
    "cX = np.array([3, 2, -3], dtype=float)\n",
    "cY = np.array([3, 2, -3], dtype=float)\n",
    "#init centroid 2\n",
    "# cX = np.array([-3, -2, -7], dtype=float)\n",
    "# cY = np.array([-3, -2, -7], dtype=float)\n",
    "\n",
    "plt.scatter(cX, cY, marker='*', c='red', linewidths=1)\n",
    "delta = [[] for a in range(len(cX))]\n",
    "convergenceCounter = 0"
   ]
  },
  {
   "cell_type": "markdown",
   "metadata": {},
   "source": [
    "### K-means clustering script"
   ]
  },
  {
   "cell_type": "code",
   "execution_count": 383,
   "metadata": {},
   "outputs": [
    {
     "name": "stdout",
     "output_type": "stream",
     "text": [
      "Centroids are: \n"
     ]
    },
    {
     "name": "stderr",
     "output_type": "stream",
     "text": [
      "C:\\Users\\latta\\AppData\\Local\\Temp\\ipykernel_19880\\4199174204.py:16: DeprecationWarning: Conversion of an array with ndim > 0 to a scalar is deprecated, and will error in future. Ensure you extract a single element from your array before performing this operation. (Deprecated NumPy 1.25.)\n",
      "  dataClusterTag[i] = int(np.where(distData[:, i] == min(distData[:, i]))[0])\n"
     ]
    },
    {
     "data": {
      "text/plain": [
       "['[7.00, 7.00]', '[2.00, 2.33]', '[-4.00, -4.67]']"
      ]
     },
     "execution_count": 383,
     "metadata": {},
     "output_type": "execute_result"
    },
    {
     "data": {
      "image/png": "[encoded data removed]",
      "text/plain": [
       "<Figure size 640x480 with 1 Axes>"
      ]
     },
     "metadata": {},
     "output_type": "display_data"
    }
   ],
   "source": [
    "def euclideanDist(p1, p2):\n",
    "    return np.sqrt(np.power((p2[1] - p1[1]), 2) + np.power((p2[0] - p1[0]), 2))\n",
    "\n",
    "distData = np.zeros([3, len(x)], dtype=float)\n",
    "\n",
    "#while loop\n",
    "while(1):\n",
    "    #Calculating the distance by using defined eublidean distance claculator\n",
    "    #output: the distance array which has n row m cal (n: number of centroid, m number of samples) \n",
    "    for i in range(len(cX)):\n",
    "        for j in range(len(x)):\n",
    "            distData[i][j] = euclideanDist([cX[i], cY[i]], [x[j], y[j]])\n",
    "\n",
    "    #Clustering based on current centroid\n",
    "    for i in range(len(x)):\n",
    "        dataClusterTag[i] = int(np.where(distData[:, i] == min(distData[:, i]))[0])\n",
    "        plt.scatter(x[i], y[i], c=clusterTag[dataClusterTag[i]])\n",
    "\n",
    "    #Calculating new centroid and calculating the changes in centroid as a euclidean distance\n",
    "    for i in range(len(cX)):\n",
    "        mem = (np.where(dataClusterTag == i)[0])\n",
    "        cXn, cYn = sum(x[mem])/len(mem), sum(y[mem])/len(mem)\n",
    "        delta[i].append(euclideanDist([cX[i], cY[i]], [cXn, cYn])) if len(delta[i]) == 0 else delta[i].append(0)\n",
    "        cX[i], cY[i] = cXn, cYn\n",
    "\n",
    "    #Counting the iteration of no change centroid position\n",
    "    if np.array(delta)[:, -1].all() == 0.0: convergenceCounter += 1\n",
    "    if convergenceCounter == 3: break\n",
    "\n",
    "#Plot the centroids\n",
    "plt.scatter(cX, cY, marker='*', c='red', linewidths=1)\n",
    "#print the centroids\n",
    "Centroids = [[cX[i], cY[i]] for i in range(len(cX))]\n",
    "print(\"Centroids are: \")\n",
    "[\"[{:.2f}, {:.2f}]\".format(cX[i], cY[i]) for i in range(len(cX))]"
   ]
  },
  {
   "cell_type": "markdown",
   "metadata": {},
   "source": [
    "### SKlearn verification"
   ]
  },
  {
   "cell_type": "code",
   "execution_count": 384,
   "metadata": {},
   "outputs": [
    {
     "name": "stdout",
     "output_type": "stream",
     "text": [
      "Verifying centroids are:\n"
     ]
    },
    {
     "name": "stderr",
     "output_type": "stream",
     "text": [
      "d:\\4thYear\\secondSemester\\Pattern Recognition\\env\\lib\\site-packages\\sklearn\\cluster\\_kmeans.py:1436: UserWarning: KMeans is known to have a memory leak on Windows with MKL, when there are less chunks than available threads. You can avoid it by setting the environment variable OMP_NUM_THREADS=1.\n",
      "  warnings.warn(\n"
     ]
    },
    {
     "data": {
      "text/plain": [
       "array([[ 7.        ,  7.        ],\n",
       "       [ 2.        ,  2.33333333],\n",
       "       [-4.        , -4.66666667]])"
      ]
     },
     "execution_count": 384,
     "metadata": {},
     "output_type": "execute_result"
    }
   ],
   "source": [
    "samples = [[x[i], y[i]] for i in range(len(x))]\n",
    "inits = [[cX[i], cY[i]] for i in range(len(cX))]\n",
    "kmeans = KMeans(n_clusters=3, init=inits, n_init=\"auto\", max_iter=10).fit(samples)\n",
    "print(\"Verifying centroids are:\")\n",
    "kmeans.cluster_centers_"
   ]
  },
  {
   "cell_type": "markdown",
   "metadata": {},
   "source": [
    "## Explanation\n"
   ]
  },
  {
   "cell_type": "markdown",
   "metadata": {},
   "source": [
    "\n",
    "### 1.1 Describing assign and update step\n",
    "\n",
    "> Briefly, we assign the random centroid based on the avilable samples. Then, we will perform update and reassign centroids based on euclidean distance of each data and centroid. The steps are summarized as follow:\n",
    "> 1. Assigning centroid's clusterTag (color)\n",
    "> 2. Caculating the euclidean distance between each centroid and all of the samples. The result is the n rows m cols distance matrix which n is the number of centroid and m is the number of samples.\n",
    "> 3. Finding the centroid which has minimum euclidean distance to each sample. Then, assign a centroidTag to that sample.\n",
    "> 4. Recalculating mean value of x and y axis in each cluster to find the coordinate (x, y) of the new centroid.\n",
    "> 5. Ploting the data for observing the centroid movement.\n",
    "> 6. The process will loop until centroid coordinate is not changed for 3 times"
   ]
  },
  {
   "cell_type": "markdown",
   "metadata": {},
   "source": [
    "### 1.2 What happen when the starting points are changed to (-3, -3), (2, 2), (-7, -7) \n",
    "\n",
    ">From attached scatter plot which achieved by using code above, we could observed that clusters formation are changed. The explaination are listed below:\n",
    "> - Let's imagine that the area of a plot is divided into 4 sections by x = 0 and y = 0 line\n",
    "> - coordinate (2, 2) is taking the top right area because it's a closest initialized centroid.\n",
    "> - onces (2, 2) taking top right area already, in the middle coordinate (-3, -3) is the owner of center area\n",
    "> - Lastly, with this initialization, coordinate (-7, -7) is not able to cluster with any other sample due to the influence of (-3, -3)"
   ]
  },
  {
   "attachments": {
    "image-2.png": {
     "image/png": "[encoded data removed]"
    },
    "image.png": {
     "image/png": "[encoded data removed]"
    }
   },
   "cell_type": "markdown",
   "metadata": {},
   "source": [
    "Initial point\n",
    "\n",
    "![image.png](attachment:image.png)\n",
    "\n",
    "Clustering result\n",
    "\n",
    "![image-2.png](attachment:image-2.png)"
   ]
  },
  {
   "cell_type": "markdown",
   "metadata": {},
   "source": [
    "### 1.3 Which centroid initialization is good and why?\n",
    "\n",
    ">  In my opinion, it's hard to say that it's good or bad centroid initilization because there are no rules in assigning centroids but \"Good\" or \"Bad\" cluster centroids could result in \"Good\" or \"Bad\" cluster from k-means clustering.\n",
    "\n",
    "> Good and Bad custering could be explained by how clear the centroid can represent it's cluster. We could analyze it through several evaluation matrics such as between-cluster variance.\n",
    "\n",
    "> In conclusion, we could explain that Good cnetroids initilization will result in the clear cluster representation from those centroids."
   ]
  },
  {
   "cell_type": "markdown",
   "metadata": {},
   "source": [
    "### 1.4 What would be the best K for this question? Describe your reasoning\n",
    "\n",
    "Currently, we use a manual method to observe the best K for clustering. From samples, I will select 4 as the best number of clusters because it could be clearly seen that if the samples is separated to 4 cluster, the within-cluster variance will be very low.\n",
    "\n",
    "However, to select the best method to finding the best K for this question we could select 2 metrics for proving the best K. Fraction of explained variance, using for finding the lower bound of K. On the other hand, within-cluster variance, using for finding the higher bound of K."
   ]
  },
  {
   "cell_type": "markdown",
   "metadata": {},
   "source": [
    "## 2. Regression\n",
    "Using the Titanic Dataset from Kaggles for training a model which predict a chance to survive of the passengers on the ship. The used method are Logistic Regression and Linear regression."
   ]
  },
  {
   "cell_type": "markdown",
   "metadata": {},
   "source": [
    "### Importing train & test Titanic data set"
   ]
  },
  {
   "cell_type": "code",
   "execution_count": 385,
   "metadata": {},
   "outputs": [],
   "source": [
    "trainFilePath = os.path.join('D:\\\\4thYear', 'secondSemester', 'Pattern Recognition', 'HW', 'HW1', 'dataset','train.csv')\n",
    "testFilePath = os.path.join('D:\\\\4thYear', 'secondSemester', 'Pattern Recognition', 'HW', 'HW1', 'dataset','test.csv')\n",
    "\n",
    "train = pd.read_csv(trainFilePath)\n",
    "test = pd.read_csv(testFilePath)"
   ]
  },
  {
   "cell_type": "markdown",
   "metadata": {},
   "source": [
    "### Data exploration"
   ]
  },
  {
   "cell_type": "code",
   "execution_count": 386,
   "metadata": {},
   "outputs": [
    {
     "data": {
      "text/html": [
       "<div>\n",
       "<style scoped>\n",
       "    .dataframe tbody tr th:only-of-type {\n",
       "        vertical-align: middle;\n",
       "    }\n",
       "\n",
       "    .dataframe tbody tr th {\n",
       "        vertical-align: top;\n",
       "    }\n",
       "\n",
       "    .dataframe thead th {\n",
       "        text-align: right;\n",
       "    }\n",
       "</style>\n",
       "<table border=\"1\" class=\"dataframe\">\n",
       "  <thead>\n",
       "    <tr style=\"text-align: right;\">\n",
       "      <th></th>\n",
       "      <th>PassengerId</th>\n",
       "      <th>Survived</th>\n",
       "      <th>Pclass</th>\n",
       "      <th>Age</th>\n",
       "      <th>SibSp</th>\n",
       "      <th>Parch</th>\n",
       "      <th>Fare</th>\n",
       "    </tr>\n",
       "  </thead>\n",
       "  <tbody>\n",
       "    <tr>\n",
       "      <th>count</th>\n",
       "      <td>891.000000</td>\n",
       "      <td>891.000000</td>\n",
       "      <td>891.000000</td>\n",
       "      <td>714.000000</td>\n",
       "      <td>891.000000</td>\n",
       "      <td>891.000000</td>\n",
       "      <td>891.000000</td>\n",
       "    </tr>\n",
       "    <tr>\n",
       "      <th>mean</th>\n",
       "      <td>446.000000</td>\n",
       "      <td>0.383838</td>\n",
       "      <td>2.308642</td>\n",
       "      <td>29.699118</td>\n",
       "      <td>0.523008</td>\n",
       "      <td>0.381594</td>\n",
       "      <td>32.204208</td>\n",
       "    </tr>\n",
       "    <tr>\n",
       "      <th>std</th>\n",
       "      <td>257.353842</td>\n",
       "      <td>0.486592</td>\n",
       "      <td>0.836071</td>\n",
       "      <td>14.526497</td>\n",
       "      <td>1.102743</td>\n",
       "      <td>0.806057</td>\n",
       "      <td>49.693429</td>\n",
       "    </tr>\n",
       "    <tr>\n",
       "      <th>min</th>\n",
       "      <td>1.000000</td>\n",
       "      <td>0.000000</td>\n",
       "      <td>1.000000</td>\n",
       "      <td>0.420000</td>\n",
       "      <td>0.000000</td>\n",
       "      <td>0.000000</td>\n",
       "      <td>0.000000</td>\n",
       "    </tr>\n",
       "    <tr>\n",
       "      <th>25%</th>\n",
       "      <td>223.500000</td>\n",
       "      <td>0.000000</td>\n",
       "      <td>2.000000</td>\n",
       "      <td>20.125000</td>\n",
       "      <td>0.000000</td>\n",
       "      <td>0.000000</td>\n",
       "      <td>7.910400</td>\n",
       "    </tr>\n",
       "    <tr>\n",
       "      <th>50%</th>\n",
       "      <td>446.000000</td>\n",
       "      <td>0.000000</td>\n",
       "      <td>3.000000</td>\n",
       "      <td>28.000000</td>\n",
       "      <td>0.000000</td>\n",
       "      <td>0.000000</td>\n",
       "      <td>14.454200</td>\n",
       "    </tr>\n",
       "    <tr>\n",
       "      <th>75%</th>\n",
       "      <td>668.500000</td>\n",
       "      <td>1.000000</td>\n",
       "      <td>3.000000</td>\n",
       "      <td>38.000000</td>\n",
       "      <td>1.000000</td>\n",
       "      <td>0.000000</td>\n",
       "      <td>31.000000</td>\n",
       "    </tr>\n",
       "    <tr>\n",
       "      <th>max</th>\n",
       "      <td>891.000000</td>\n",
       "      <td>1.000000</td>\n",
       "      <td>3.000000</td>\n",
       "      <td>80.000000</td>\n",
       "      <td>8.000000</td>\n",
       "      <td>6.000000</td>\n",
       "      <td>512.329200</td>\n",
       "    </tr>\n",
       "  </tbody>\n",
       "</table>\n",
       "</div>"
      ],
      "text/plain": [
       "       PassengerId    Survived      Pclass         Age       SibSp  \\\n",
       "count   891.000000  891.000000  891.000000  714.000000  891.000000   \n",
       "mean    446.000000    0.383838    2.308642   29.699118    0.523008   \n",
       "std     257.353842    0.486592    0.836071   14.526497    1.102743   \n",
       "min       1.000000    0.000000    1.000000    0.420000    0.000000   \n",
       "25%     223.500000    0.000000    2.000000   20.125000    0.000000   \n",
       "50%     446.000000    0.000000    3.000000   28.000000    0.000000   \n",
       "75%     668.500000    1.000000    3.000000   38.000000    1.000000   \n",
       "max     891.000000    1.000000    3.000000   80.000000    8.000000   \n",
       "\n",
       "            Parch        Fare  \n",
       "count  891.000000  891.000000  \n",
       "mean     0.381594   32.204208  \n",
       "std      0.806057   49.693429  \n",
       "min      0.000000    0.000000  \n",
       "25%      0.000000    7.910400  \n",
       "50%      0.000000   14.454200  \n",
       "75%      0.000000   31.000000  \n",
       "max      6.000000  512.329200  "
      ]
     },
     "execution_count": 386,
     "metadata": {},
     "output_type": "execute_result"
    }
   ],
   "source": [
    "train.describe()"
   ]
  },
  {
   "cell_type": "code",
   "execution_count": 387,
   "metadata": {},
   "outputs": [
    {
     "data": {
      "text/html": [
       "<div>\n",
       "<style scoped>\n",
       "    .dataframe tbody tr th:only-of-type {\n",
       "        vertical-align: middle;\n",
       "    }\n",
       "\n",
       "    .dataframe tbody tr th {\n",
       "        vertical-align: top;\n",
       "    }\n",
       "\n",
       "    .dataframe thead th {\n",
       "        text-align: right;\n",
       "    }\n",
       "</style>\n",
       "<table border=\"1\" class=\"dataframe\">\n",
       "  <thead>\n",
       "    <tr style=\"text-align: right;\">\n",
       "      <th></th>\n",
       "      <th>PassengerId</th>\n",
       "      <th>Survived</th>\n",
       "      <th>Pclass</th>\n",
       "      <th>Name</th>\n",
       "      <th>Sex</th>\n",
       "      <th>Age</th>\n",
       "      <th>SibSp</th>\n",
       "      <th>Parch</th>\n",
       "      <th>Ticket</th>\n",
       "      <th>Fare</th>\n",
       "      <th>Cabin</th>\n",
       "      <th>Embarked</th>\n",
       "    </tr>\n",
       "  </thead>\n",
       "  <tbody>\n",
       "    <tr>\n",
       "      <th>0</th>\n",
       "      <td>1</td>\n",
       "      <td>0</td>\n",
       "      <td>3</td>\n",
       "      <td>Braund, Mr. Owen Harris</td>\n",
       "      <td>male</td>\n",
       "      <td>22.0</td>\n",
       "      <td>1</td>\n",
       "      <td>0</td>\n",
       "      <td>A/5 21171</td>\n",
       "      <td>7.2500</td>\n",
       "      <td>NaN</td>\n",
       "      <td>S</td>\n",
       "    </tr>\n",
       "    <tr>\n",
       "      <th>1</th>\n",
       "      <td>2</td>\n",
       "      <td>1</td>\n",
       "      <td>1</td>\n",
       "      <td>Cumings, Mrs. John Bradley (Florence Briggs Th...</td>\n",
       "      <td>female</td>\n",
       "      <td>38.0</td>\n",
       "      <td>1</td>\n",
       "      <td>0</td>\n",
       "      <td>PC 17599</td>\n",
       "      <td>71.2833</td>\n",
       "      <td>C85</td>\n",
       "      <td>C</td>\n",
       "    </tr>\n",
       "    <tr>\n",
       "      <th>2</th>\n",
       "      <td>3</td>\n",
       "      <td>1</td>\n",
       "      <td>3</td>\n",
       "      <td>Heikkinen, Miss. Laina</td>\n",
       "      <td>female</td>\n",
       "      <td>26.0</td>\n",
       "      <td>0</td>\n",
       "      <td>0</td>\n",
       "      <td>STON/O2. 3101282</td>\n",
       "      <td>7.9250</td>\n",
       "      <td>NaN</td>\n",
       "      <td>S</td>\n",
       "    </tr>\n",
       "    <tr>\n",
       "      <th>3</th>\n",
       "      <td>4</td>\n",
       "      <td>1</td>\n",
       "      <td>1</td>\n",
       "      <td>Futrelle, Mrs. Jacques Heath (Lily May Peel)</td>\n",
       "      <td>female</td>\n",
       "      <td>35.0</td>\n",
       "      <td>1</td>\n",
       "      <td>0</td>\n",
       "      <td>113803</td>\n",
       "      <td>53.1000</td>\n",
       "      <td>C123</td>\n",
       "      <td>S</td>\n",
       "    </tr>\n",
       "    <tr>\n",
       "      <th>4</th>\n",
       "      <td>5</td>\n",
       "      <td>0</td>\n",
       "      <td>3</td>\n",
       "      <td>Allen, Mr. William Henry</td>\n",
       "      <td>male</td>\n",
       "      <td>35.0</td>\n",
       "      <td>0</td>\n",
       "      <td>0</td>\n",
       "      <td>373450</td>\n",
       "      <td>8.0500</td>\n",
       "      <td>NaN</td>\n",
       "      <td>S</td>\n",
       "    </tr>\n",
       "  </tbody>\n",
       "</table>\n",
       "</div>"
      ],
      "text/plain": [
       "   PassengerId  Survived  Pclass  \\\n",
       "0            1         0       3   \n",
       "1            2         1       1   \n",
       "2            3         1       3   \n",
       "3            4         1       1   \n",
       "4            5         0       3   \n",
       "\n",
       "                                                Name     Sex   Age  SibSp  \\\n",
       "0                            Braund, Mr. Owen Harris    male  22.0      1   \n",
       "1  Cumings, Mrs. John Bradley (Florence Briggs Th...  female  38.0      1   \n",
       "2                             Heikkinen, Miss. Laina  female  26.0      0   \n",
       "3       Futrelle, Mrs. Jacques Heath (Lily May Peel)  female  35.0      1   \n",
       "4                           Allen, Mr. William Henry    male  35.0      0   \n",
       "\n",
       "   Parch            Ticket     Fare Cabin Embarked  \n",
       "0      0         A/5 21171   7.2500   NaN        S  \n",
       "1      0          PC 17599  71.2833   C85        C  \n",
       "2      0  STON/O2. 3101282   7.9250   NaN        S  \n",
       "3      0            113803  53.1000  C123        S  \n",
       "4      0            373450   8.0500   NaN        S  "
      ]
     },
     "execution_count": 387,
     "metadata": {},
     "output_type": "execute_result"
    }
   ],
   "source": [
    "train.head()"
   ]
  },
  {
   "cell_type": "code",
   "execution_count": 388,
   "metadata": {},
   "outputs": [
    {
     "data": {
      "text/plain": [
       "Text(0.5, 1.0, 'Age distribution')"
      ]
     },
     "execution_count": 388,
     "metadata": {},
     "output_type": "execute_result"
    },
    {
     "data": {
      "image/png": "[encoded data removed]",
      "text/plain": [
       "<Figure size 640x480 with 1 Axes>"
      ]
     },
     "metadata": {},
     "output_type": "display_data"
    }
   ],
   "source": [
    "#Checking the distribution of weight data\n",
    "plt.hist(train[\"Age\"], rwidth=1, bins=30)\n",
    "plt.xlabel('Age')\n",
    "plt.ylabel('Frequency')\n",
    "plt.title('Age distribution')"
   ]
  },
  {
   "cell_type": "markdown",
   "metadata": {},
   "source": [
    "### 2.2 Changing Embarked, Sex from string data to number\n",
    "The Embarked and Sex data are categorical data which we change it's data type from string to int for using in our regression. However, we are able to do one hot encoding instead."
   ]
  },
  {
   "cell_type": "code",
   "execution_count": 389,
   "metadata": {},
   "outputs": [
    {
     "data": {
      "text/html": [
       "<div>\n",
       "<style scoped>\n",
       "    .dataframe tbody tr th:only-of-type {\n",
       "        vertical-align: middle;\n",
       "    }\n",
       "\n",
       "    .dataframe tbody tr th {\n",
       "        vertical-align: top;\n",
       "    }\n",
       "\n",
       "    .dataframe thead th {\n",
       "        text-align: right;\n",
       "    }\n",
       "</style>\n",
       "<table border=\"1\" class=\"dataframe\">\n",
       "  <thead>\n",
       "    <tr style=\"text-align: right;\">\n",
       "      <th></th>\n",
       "      <th>PassengerId</th>\n",
       "      <th>Survived</th>\n",
       "      <th>Pclass</th>\n",
       "      <th>Name</th>\n",
       "      <th>Sex</th>\n",
       "      <th>Age</th>\n",
       "      <th>SibSp</th>\n",
       "      <th>Parch</th>\n",
       "      <th>Ticket</th>\n",
       "      <th>Fare</th>\n",
       "      <th>Cabin</th>\n",
       "      <th>Embarked</th>\n",
       "    </tr>\n",
       "  </thead>\n",
       "  <tbody>\n",
       "    <tr>\n",
       "      <th>0</th>\n",
       "      <td>1</td>\n",
       "      <td>0</td>\n",
       "      <td>3</td>\n",
       "      <td>Braund, Mr. Owen Harris</td>\n",
       "      <td>0</td>\n",
       "      <td>22.0</td>\n",
       "      <td>1</td>\n",
       "      <td>0</td>\n",
       "      <td>A/5 21171</td>\n",
       "      <td>7.2500</td>\n",
       "      <td>NaN</td>\n",
       "      <td>0</td>\n",
       "    </tr>\n",
       "    <tr>\n",
       "      <th>1</th>\n",
       "      <td>2</td>\n",
       "      <td>1</td>\n",
       "      <td>1</td>\n",
       "      <td>Cumings, Mrs. John Bradley (Florence Briggs Th...</td>\n",
       "      <td>1</td>\n",
       "      <td>38.0</td>\n",
       "      <td>1</td>\n",
       "      <td>0</td>\n",
       "      <td>PC 17599</td>\n",
       "      <td>71.2833</td>\n",
       "      <td>C85</td>\n",
       "      <td>1</td>\n",
       "    </tr>\n",
       "    <tr>\n",
       "      <th>2</th>\n",
       "      <td>3</td>\n",
       "      <td>1</td>\n",
       "      <td>3</td>\n",
       "      <td>Heikkinen, Miss. Laina</td>\n",
       "      <td>1</td>\n",
       "      <td>26.0</td>\n",
       "      <td>0</td>\n",
       "      <td>0</td>\n",
       "      <td>STON/O2. 3101282</td>\n",
       "      <td>7.9250</td>\n",
       "      <td>NaN</td>\n",
       "      <td>0</td>\n",
       "    </tr>\n",
       "    <tr>\n",
       "      <th>3</th>\n",
       "      <td>4</td>\n",
       "      <td>1</td>\n",
       "      <td>1</td>\n",
       "      <td>Futrelle, Mrs. Jacques Heath (Lily May Peel)</td>\n",
       "      <td>1</td>\n",
       "      <td>35.0</td>\n",
       "      <td>1</td>\n",
       "      <td>0</td>\n",
       "      <td>113803</td>\n",
       "      <td>53.1000</td>\n",
       "      <td>C123</td>\n",
       "      <td>0</td>\n",
       "    </tr>\n",
       "    <tr>\n",
       "      <th>4</th>\n",
       "      <td>5</td>\n",
       "      <td>0</td>\n",
       "      <td>3</td>\n",
       "      <td>Allen, Mr. William Henry</td>\n",
       "      <td>0</td>\n",
       "      <td>35.0</td>\n",
       "      <td>0</td>\n",
       "      <td>0</td>\n",
       "      <td>373450</td>\n",
       "      <td>8.0500</td>\n",
       "      <td>NaN</td>\n",
       "      <td>0</td>\n",
       "    </tr>\n",
       "  </tbody>\n",
       "</table>\n",
       "</div>"
      ],
      "text/plain": [
       "   PassengerId  Survived  Pclass  \\\n",
       "0            1         0       3   \n",
       "1            2         1       1   \n",
       "2            3         1       3   \n",
       "3            4         1       1   \n",
       "4            5         0       3   \n",
       "\n",
       "                                                Name Sex   Age  SibSp  Parch  \\\n",
       "0                            Braund, Mr. Owen Harris   0  22.0      1      0   \n",
       "1  Cumings, Mrs. John Bradley (Florence Briggs Th...   1  38.0      1      0   \n",
       "2                             Heikkinen, Miss. Laina   1  26.0      0      0   \n",
       "3       Futrelle, Mrs. Jacques Heath (Lily May Peel)   1  35.0      1      0   \n",
       "4                           Allen, Mr. William Henry   0  35.0      0      0   \n",
       "\n",
       "             Ticket     Fare Cabin Embarked  \n",
       "0         A/5 21171   7.2500   NaN        0  \n",
       "1          PC 17599  71.2833   C85        1  \n",
       "2  STON/O2. 3101282   7.9250   NaN        0  \n",
       "3            113803  53.1000  C123        0  \n",
       "4            373450   8.0500   NaN        0  "
      ]
     },
     "execution_count": 389,
     "metadata": {},
     "output_type": "execute_result"
    }
   ],
   "source": [
    "train.loc[train[\"Embarked\"] == \"S\", \"Embarked\"] = 0\n",
    "train.loc[train[\"Embarked\"] == \"C\", \"Embarked\"] = 1\n",
    "train.loc[train[\"Embarked\"] == \"Q\", \"Embarked\"] = 2\n",
    "\n",
    "train.loc[train[\"Sex\"] == \"male\", \"Sex\"] = 0\n",
    "train.loc[train[\"Sex\"] == \"female\", \"Sex\"] = 1\n",
    "\n",
    "#Checking whether the non-numerical data done the substituions right or not\n",
    "train.head()"
   ]
  },
  {
   "cell_type": "markdown",
   "metadata": {},
   "source": [
    "### 2.1 Fill age with mode\n",
    "Since the distribution of age is slightly skew right, so mode is a good choice for fill NaN in the data because it can represent the majority of the data."
   ]
  },
  {
   "cell_type": "code",
   "execution_count": 390,
   "metadata": {},
   "outputs": [
    {
     "name": "stdout",
     "output_type": "stream",
     "text": [
      "<class 'pandas.core.frame.DataFrame'>\n",
      "RangeIndex: 891 entries, 0 to 890\n",
      "Data columns (total 4 columns):\n",
      " #   Column    Non-Null Count  Dtype  \n",
      "---  ------    --------------  -----  \n",
      " 0   Pclass    891 non-null    Int64  \n",
      " 1   Sex       891 non-null    Int64  \n",
      " 2   Age       891 non-null    Float64\n",
      " 3   Embarked  891 non-null    Int64  \n",
      "dtypes: Float64(1), Int64(3)\n",
      "memory usage: 31.4 KB\n"
     ]
    }
   ],
   "source": [
    "train[\"Age\"] = train[\"Age\"].fillna(train[\"Age\"].mode()[0])\n",
    "train[\"Embarked\"] = train[\"Embarked\"].fillna(train[\"Embarked\"].mode()[0])\n",
    "\n",
    "#Checking whether the NaN filling doing right or not\n",
    "trainFiltered = train[[\"Pclass\", \"Sex\", \"Age\", \"Embarked\"]].convert_dtypes()\n",
    "trainFiltered.info()"
   ]
  },
  {
   "cell_type": "markdown",
   "metadata": {},
   "source": [
    "From our curiosity, we want to know which features has highest correlation to our target. So, we print out the correlation table of entire selected features to observe. We found that \"Sex\" has the highest correlation to our target (Survived)"
   ]
  },
  {
   "cell_type": "code",
   "execution_count": 391,
   "metadata": {},
   "outputs": [
    {
     "data": {
      "text/html": [
       "<div>\n",
       "<style scoped>\n",
       "    .dataframe tbody tr th:only-of-type {\n",
       "        vertical-align: middle;\n",
       "    }\n",
       "\n",
       "    .dataframe tbody tr th {\n",
       "        vertical-align: top;\n",
       "    }\n",
       "\n",
       "    .dataframe thead th {\n",
       "        text-align: right;\n",
       "    }\n",
       "</style>\n",
       "<table border=\"1\" class=\"dataframe\">\n",
       "  <thead>\n",
       "    <tr style=\"text-align: right;\">\n",
       "      <th></th>\n",
       "      <th>Pclass</th>\n",
       "      <th>Sex</th>\n",
       "      <th>Age</th>\n",
       "      <th>Embarked</th>\n",
       "      <th>Survived</th>\n",
       "    </tr>\n",
       "  </thead>\n",
       "  <tbody>\n",
       "    <tr>\n",
       "      <th>Pclass</th>\n",
       "      <td>1.000000</td>\n",
       "      <td>-0.131900</td>\n",
       "      <td>-0.356187</td>\n",
       "      <td>0.045702</td>\n",
       "      <td>-0.338481</td>\n",
       "    </tr>\n",
       "    <tr>\n",
       "      <th>Sex</th>\n",
       "      <td>-0.131900</td>\n",
       "      <td>1.000000</td>\n",
       "      <td>-0.073377</td>\n",
       "      <td>0.116569</td>\n",
       "      <td>0.543351</td>\n",
       "    </tr>\n",
       "    <tr>\n",
       "      <th>Age</th>\n",
       "      <td>-0.356187</td>\n",
       "      <td>-0.073377</td>\n",
       "      <td>1.000000</td>\n",
       "      <td>-0.047625</td>\n",
       "      <td>-0.052872</td>\n",
       "    </tr>\n",
       "    <tr>\n",
       "      <th>Embarked</th>\n",
       "      <td>0.045702</td>\n",
       "      <td>0.116569</td>\n",
       "      <td>-0.047625</td>\n",
       "      <td>1.000000</td>\n",
       "      <td>0.106811</td>\n",
       "    </tr>\n",
       "    <tr>\n",
       "      <th>Survived</th>\n",
       "      <td>-0.338481</td>\n",
       "      <td>0.543351</td>\n",
       "      <td>-0.052872</td>\n",
       "      <td>0.106811</td>\n",
       "      <td>1.000000</td>\n",
       "    </tr>\n",
       "  </tbody>\n",
       "</table>\n",
       "</div>"
      ],
      "text/plain": [
       "            Pclass       Sex       Age  Embarked  Survived\n",
       "Pclass    1.000000 -0.131900 -0.356187  0.045702 -0.338481\n",
       "Sex      -0.131900  1.000000 -0.073377  0.116569  0.543351\n",
       "Age      -0.356187 -0.073377  1.000000 -0.047625 -0.052872\n",
       "Embarked  0.045702  0.116569 -0.047625  1.000000  0.106811\n",
       "Survived -0.338481  0.543351 -0.052872  0.106811  1.000000"
      ]
     },
     "execution_count": 391,
     "metadata": {},
     "output_type": "execute_result"
    }
   ],
   "source": [
    "#Exploring the correlation of the selected features to our target.\n",
    "train[[\"Pclass\", \"Sex\", \"Age\", \"Embarked\", \"Survived\"]].corr()"
   ]
  },
  {
   "cell_type": "markdown",
   "metadata": {},
   "source": [
    "### Setting up the training dataset"
   ]
  },
  {
   "cell_type": "code",
   "execution_count": 392,
   "metadata": {},
   "outputs": [],
   "source": [
    "#initilizing samples\n",
    "x = np.array(trainFiltered.values, dtype = float)\n",
    "y = train[\"Survived\"].values\n",
    "#initilizing learning rate\n",
    "r = 0.001\n",
    "\n",
    "nFeatures = len(x[0])\n",
    "nSamples = len(x)"
   ]
  },
  {
   "cell_type": "markdown",
   "metadata": {},
   "source": [
    "Data normalization by max min scaling"
   ]
  },
  {
   "cell_type": "code",
   "execution_count": 393,
   "metadata": {},
   "outputs": [
    {
     "data": {
      "text/html": [
       "<div>\n",
       "<style scoped>\n",
       "    .dataframe tbody tr th:only-of-type {\n",
       "        vertical-align: middle;\n",
       "    }\n",
       "\n",
       "    .dataframe tbody tr th {\n",
       "        vertical-align: top;\n",
       "    }\n",
       "\n",
       "    .dataframe thead th {\n",
       "        text-align: right;\n",
       "    }\n",
       "</style>\n",
       "<table border=\"1\" class=\"dataframe\">\n",
       "  <thead>\n",
       "    <tr style=\"text-align: right;\">\n",
       "      <th></th>\n",
       "      <th>0</th>\n",
       "      <th>1</th>\n",
       "      <th>2</th>\n",
       "      <th>3</th>\n",
       "    </tr>\n",
       "  </thead>\n",
       "  <tbody>\n",
       "    <tr>\n",
       "      <th>count</th>\n",
       "      <td>891.000000</td>\n",
       "      <td>891.000000</td>\n",
       "      <td>891.000000</td>\n",
       "      <td>891.000000</td>\n",
       "    </tr>\n",
       "    <tr>\n",
       "      <th>mean</th>\n",
       "      <td>0.654321</td>\n",
       "      <td>0.352413</td>\n",
       "      <td>0.353694</td>\n",
       "      <td>0.180696</td>\n",
       "    </tr>\n",
       "    <tr>\n",
       "      <th>std</th>\n",
       "      <td>0.418036</td>\n",
       "      <td>0.477990</td>\n",
       "      <td>0.165865</td>\n",
       "      <td>0.317837</td>\n",
       "    </tr>\n",
       "    <tr>\n",
       "      <th>min</th>\n",
       "      <td>0.000000</td>\n",
       "      <td>0.000000</td>\n",
       "      <td>0.000000</td>\n",
       "      <td>0.000000</td>\n",
       "    </tr>\n",
       "    <tr>\n",
       "      <th>25%</th>\n",
       "      <td>0.500000</td>\n",
       "      <td>0.000000</td>\n",
       "      <td>0.271174</td>\n",
       "      <td>0.000000</td>\n",
       "    </tr>\n",
       "    <tr>\n",
       "      <th>50%</th>\n",
       "      <td>1.000000</td>\n",
       "      <td>0.000000</td>\n",
       "      <td>0.296306</td>\n",
       "      <td>0.000000</td>\n",
       "    </tr>\n",
       "    <tr>\n",
       "      <th>75%</th>\n",
       "      <td>1.000000</td>\n",
       "      <td>1.000000</td>\n",
       "      <td>0.434531</td>\n",
       "      <td>0.500000</td>\n",
       "    </tr>\n",
       "    <tr>\n",
       "      <th>max</th>\n",
       "      <td>1.000000</td>\n",
       "      <td>1.000000</td>\n",
       "      <td>1.000000</td>\n",
       "      <td>1.000000</td>\n",
       "    </tr>\n",
       "  </tbody>\n",
       "</table>\n",
       "</div>"
      ],
      "text/plain": [
       "                0           1           2           3\n",
       "count  891.000000  891.000000  891.000000  891.000000\n",
       "mean     0.654321    0.352413    0.353694    0.180696\n",
       "std      0.418036    0.477990    0.165865    0.317837\n",
       "min      0.000000    0.000000    0.000000    0.000000\n",
       "25%      0.500000    0.000000    0.271174    0.000000\n",
       "50%      1.000000    0.000000    0.296306    0.000000\n",
       "75%      1.000000    1.000000    0.434531    0.500000\n",
       "max      1.000000    1.000000    1.000000    1.000000"
      ]
     },
     "execution_count": 393,
     "metadata": {},
     "output_type": "execute_result"
    }
   ],
   "source": [
    "for i in range(nFeatures):\n",
    "    minI = min(x[:, i])\n",
    "    maxI = max(x[:, i])\n",
    "    x[:, i] = (x[:, i] - minI)/(maxI - minI)\n",
    "\n",
    "#Checking whether max min scaling can do it's job or not.\n",
    "pd.DataFrame(x).describe()"
   ]
  },
  {
   "cell_type": "markdown",
   "metadata": {},
   "source": [
    "### 2.3 Writing a Logistic Regression for optimizing the parameters\n",
    "\n",
    "The function which perform a model paramters optimization of a regression model for predicting a target data. \n",
    "During training there are prediction process and gradient decent calculation for tuning the parameters. Moreover,\n",
    "this function is capable for using with higher order regression. This logistic regression is very straight foward\n",
    "no learning rate decay (adaptive learning rate) and using constant epoch for performing training"
   ]
  },
  {
   "cell_type": "code",
   "execution_count": 394,
   "metadata": {},
   "outputs": [],
   "source": [
    "def logisticRegression(trainingSet, groundTruth, order, epoch):\n",
    "    '''\n",
    "        Function parameters\n",
    "        trainingSet: an numpy array which contains dataset for training\n",
    "        groundTruth: an numpy array which contains a ground truth dataset.\n",
    "        order: the desire regression order\n",
    "        epoch: the number of iteration of training.\n",
    "    '''\n",
    "    #initilizing the parameters by the number of features, orders and another bias\n",
    "    theta = np.ones(len(trainingSet[0])*order + 1)\n",
    "    nFeatures = len(theta)\n",
    "    crossEntropyLoss = []\n",
    "    \n",
    "    for a in range(epoch):\n",
    "        regressionRes = np.zeros(len(trainingSet), dtype=float)\n",
    "        #Calculating the result from regression with given order\n",
    "        for i in range(order):\n",
    "            trainingSetPowered = trainingSet**(i+1)\n",
    "            thetaPowered = theta[0 + i*len(trainingSet[0]):len(trainingSet[0]) + i*len(trainingSet[0])]\n",
    "            regressionRes += np.matmul(trainingSetPowered, thetaPowered.T)\n",
    "        regressionRes = regressionRes + theta[nFeatures - 1]\n",
    "        #Using Sigmoid function to convert the regression result to [0, 1] range\n",
    "        yHat = 1/(1 + np.exp(-regressionRes))\n",
    "        #Defining the target output\n",
    "        y = np.array(groundTruth)\n",
    "\n",
    "        #Parameter updating by using the equation derived from partial derivative of MSE with respect to each features\n",
    "        buff = np.zeros(nFeatures)\n",
    "        for od in range(order):\n",
    "            for j in range(len(trainingSet[0])):\n",
    "                for i in range(nSamples):\n",
    "                    #Calculating the sum of error in prediction by looping every sample in each features and order\n",
    "                    buff[j + len(trainingSet[0])*od] += (y[i] - yHat[i])*(trainingSet[i][j]**(od+1))\n",
    "                    #The bias weight is calculated along with the first features of first order.\n",
    "                    if od == 0 and j == 0:\n",
    "                        buff[nFeatures - 1] += (y[i] - yHat[i])*1\n",
    "                #Updating the parameter of features\n",
    "                theta[j + len(trainingSet[0])*od] += r*buff[j + len(trainingSet[0])*od]\n",
    "                #Updating the parameter of bias along with the first features of first order\n",
    "                if od == 0 and j == 0:\n",
    "                    theta[nFeatures - 1] += r*buff[nFeatures - 1]\n",
    "        #Calculating the loss using cross crossentropy method\n",
    "        crossEntropyLoss.append(-1*(1/nSamples)*(np.matmul(y, np.log(yHat)) + np.matmul(1-y, np.log(1-yHat))))\n",
    "    \n",
    "    plt.clf()\n",
    "    plt.plot(crossEntropyLoss)\n",
    "    plt.xlabel(\"Epoch\")\n",
    "    plt.ylabel(\"Log loss\")\n",
    "    plt.title(\"Logistic regression loss curve\")\n",
    "\n",
    "    print(\"Final loss: \", end='')\n",
    "    print(crossEntropyLoss[-1])\n",
    "\n",
    "    return theta"
   ]
  },
  {
   "cell_type": "code",
   "execution_count": 395,
   "metadata": {},
   "outputs": [
    {
     "name": "stdout",
     "output_type": "stream",
     "text": [
      "Final loss: 0.4581423170849287\n"
     ]
    },
    {
     "data": {
      "image/png": "[encoded data removed]",
      "text/plain": [
       "<Figure size 640x480 with 1 Axes>"
      ]
     },
     "metadata": {},
     "output_type": "display_data"
    }
   ],
   "source": [
    "trainingEpoch = 150 ## ??How many epoch we need to use\n",
    "theta = logisticRegression(x, train[\"Survived\"], 1, trainingEpoch)"
   ]
  },
  {
   "cell_type": "markdown",
   "metadata": {},
   "source": [
    "From visualized loss, we found that the loss of the model is nicely converge which we could observe and verify the parameters as shown below."
   ]
  },
  {
   "cell_type": "code",
   "execution_count": 396,
   "metadata": {},
   "outputs": [
    {
     "data": {
      "text/plain": [
       "array([-1.85838479,  2.57495138, -0.44636081,  0.61820964, -0.29933408])"
      ]
     },
     "execution_count": 396,
     "metadata": {},
     "output_type": "execute_result"
    }
   ],
   "source": [
    "theta"
   ]
  },
  {
   "cell_type": "markdown",
   "metadata": {},
   "source": [
    "The optimal parameters from self-written LogisticRegression function are\n",
    "\n",
    "| $ \\theta_{Embarked} $ | $ \\theta_{Age} $ | $ \\theta_{Sex} $ | $ \\theta_{PClass} $ | $ \\theta_0 $ |\n",
    "|:---------------------:|:----------------:|:----------------:|:-------------------:|:------------:|\n",
    "|0.618                  |-0.446            |2.565             |-1.858               |-0.299        |"
   ]
  },
  {
   "cell_type": "markdown",
   "metadata": {},
   "source": [
    "Parameters verification by using SKlearn library"
   ]
  },
  {
   "cell_type": "code",
   "execution_count": 397,
   "metadata": {},
   "outputs": [],
   "source": [
    "from sklearn.linear_model import LogisticRegression\n",
    "\n",
    "model = LogisticRegression().fit(x, y)"
   ]
  },
  {
   "cell_type": "code",
   "execution_count": 398,
   "metadata": {},
   "outputs": [
    {
     "name": "stdout",
     "output_type": "stream",
     "text": [
      "[[-2.13216765  2.47193257 -1.81943274  0.54369003]] [0.43296519]\n"
     ]
    }
   ],
   "source": [
    "print(model.coef_, model.intercept_)"
   ]
  },
  {
   "cell_type": "markdown",
   "metadata": {},
   "source": [
    "The optimal parameters from self-written LogisticRegression function are\n",
    "\n",
    "| $ \\theta_{Embarked} $ | $ \\theta_{Age} $ | $ \\theta_{Sex} $ | $ \\theta_{PClass} $ | $ \\theta_0 $ |\n",
    "|:---------------------:|:----------------:|:----------------:|:-------------------:|:------------:|\n",
    "|0.543                  |-1.819            |2.472             |-2.132               |0.433         |"
   ]
  },
  {
   "cell_type": "markdown",
   "metadata": {},
   "source": [
    "From parameters achieved by self written LogisticRegression function and SKlearn LogisticRegression, we found that the parameters of Sex features in both model has the highest weight which is related to the correlation observation at the beginning. So, I think, the output parameters is make sense."
   ]
  },
  {
   "cell_type": "markdown",
   "metadata": {},
   "source": [
    "### 2.4 Model evaluation\n",
    "\n",
    "- $ Precision = \\frac{True Positive}{True Positive + False Positive} $\n",
    "\n",
    "- $ Recall = \\frac{True Positive}{True Positive + False Negative} $\n",
    "\n",
    "- $ f1-score = \\frac{{2}\\cdot{Precision}\\cdot{Recall}}{{Precision}+{Recall}} $"
   ]
  },
  {
   "cell_type": "code",
   "execution_count": 399,
   "metadata": {},
   "outputs": [
    {
     "name": "stdout",
     "output_type": "stream",
     "text": [
      "Evaluation matrics\n",
      "-------------------------------\n",
      "Precision: 0.7106\n",
      "Recall: 0.7251\n",
      "F1-score: 0.7178\n"
     ]
    }
   ],
   "source": [
    "#Gettign the prediction result from training dataset\n",
    "survivingPrediction = 1/(1 + np.exp(-np.matmul(x, theta[0:4].T)))\n",
    "\n",
    "#We could find the best threshold by changing the threshold and evaluating by AUROC\n",
    "#However, threshold tuning need to do in valitation set but test in test set. In this case, we have only validation set, so we use 0.5.\n",
    "# thresholdArr = np.linspace(start=0.3, stop=0.7, num=10)\n",
    "threshold = 0.5\n",
    "\n",
    "survivingPrediction[np.where(survivingPrediction >= threshold)] = 1\n",
    "survivingPrediction[np.where(survivingPrediction < threshold)] = 0\n",
    "\n",
    "def calPrecision(y, yHat):\n",
    "    '''\n",
    "    y = ground truth\n",
    "    yHat = predicted result\n",
    "    '''\n",
    "    TP = np.count_nonzero(np.logical_and(y==1, yHat==1))\n",
    "    FP = np.count_nonzero(np.logical_and(y==0, yHat==1))\n",
    "    return TP/(TP + FP)\n",
    "\n",
    "def calRecall(y, yHat):\n",
    "    '''\n",
    "    y = ground truth\n",
    "    yHat = predicted result\n",
    "    '''\n",
    "    TP = np.count_nonzero(np.logical_and(y==1, yHat==1))\n",
    "    FN = np.count_nonzero(np.logical_and(y==1, yHat==0))\n",
    "    return TP/(TP + FN)\n",
    "\n",
    "def calF1Score(precision, recall):\n",
    "    return (2*precision*recall)/(precision+recall)\n",
    "\n",
    "print(\"Evaluation matrics\")\n",
    "print(\"-------------------------------\")\n",
    "\n",
    "print(\"Precision: \", end='')\n",
    "Precision = calPrecision(y, survivingPrediction)\n",
    "print(\"{:.4f}\".format(Precision))\n",
    "\n",
    "print(\"Recall: \", end='')\n",
    "Recall = calRecall(y, survivingPrediction)\n",
    "print(\"{:.4f}\".format(Recall))\n",
    "\n",
    "print(\"F1-score: \", end='')\n",
    "print(\"{:.4f}\".format(calF1Score(Precision, Recall)))"
   ]
  },
  {
   "cell_type": "markdown",
   "metadata": {},
   "source": [
    "From the model evaluation result, it's showing that our model can:\n",
    "- Predict the right \"true\" among every true predicted by 71.06%\n",
    "- Predict the right \"true\" from every case that should be true by 72.51%\n",
    "- Has F1-score at 0.7178"
   ]
  },
  {
   "cell_type": "markdown",
   "metadata": {},
   "source": [
    "### 2.5 Adding some higher order features to the training "
   ]
  },
  {
   "cell_type": "code",
   "execution_count": 400,
   "metadata": {},
   "outputs": [
    {
     "name": "stdout",
     "output_type": "stream",
     "text": [
      "Final loss: 0.45680459318818784\n"
     ]
    },
    {
     "data": {
      "image/png": "[encoded data removed]",
      "text/plain": [
       "<Figure size 640x480 with 1 Axes>"
      ]
     },
     "metadata": {},
     "output_type": "display_data"
    }
   ],
   "source": [
    "theta2order = logisticRegression(x, train[\"Survived\"], 2, trainingEpoch)"
   ]
  },
  {
   "cell_type": "code",
   "execution_count": 408,
   "metadata": {},
   "outputs": [
    {
     "name": "stdout",
     "output_type": "stream",
     "text": [
      "Evaluation matrics\n",
      "-------------------------------\n",
      "Precision: 0.7388535032\n",
      "Recall: 0.6783625731\n",
      "F1-score: 0.7073170732\n"
     ]
    }
   ],
   "source": [
    "x_2ndOrder = np.concatenate((x, x**2, np.ones(nSamples)[ :, np.newaxis]), axis=1)\n",
    "# print(x_2ndOrder.shape)\n",
    "#Gettign the prediction result from training dataset\n",
    "survivingPrediction2 = 1/(1 + np.exp(-np.matmul(x_2ndOrder, theta2order.T)))\n",
    "# print(theta2order)\n",
    "\n",
    "#We could find the best threshold by changing the threshold and evaluating by AUROC\n",
    "#However, threshold tuning need to do in valitation set but test in test set. In this case, we have only validation set, so we use 0.5.\n",
    "# thresholdArr = np.linspace(start=0.3, stop=0.7, num=10)\n",
    "threshold = 0.5\n",
    "\n",
    "survivingPrediction2[np.where(survivingPrediction2 >= threshold)] = 1\n",
    "survivingPrediction2[np.where(survivingPrediction2 < threshold)] = 0\n",
    "\n",
    "print(\"Evaluation matrics\")\n",
    "print(\"-------------------------------\")\n",
    "\n",
    "print(\"Precision: \", end='')\n",
    "Precision = calPrecision(y, survivingPrediction2)\n",
    "print(\"{:.10f}\".format(Precision))\n",
    "\n",
    "print(\"Recall: \", end='')\n",
    "Recall = calRecall(y, survivingPrediction2)\n",
    "print(\"{:.10f}\".format(Recall))\n",
    "\n",
    "print(\"F1-score: \", end='')\n",
    "print(\"{:.10f}\".format(calF1Score(Precision, Recall)))"
   ]
  },
  {
   "cell_type": "code",
   "execution_count": 402,
   "metadata": {},
   "outputs": [
    {
     "name": "stdout",
     "output_type": "stream",
     "text": [
      "Final loss: 0.4569387547804715\n"
     ]
    },
    {
     "data": {
      "image/png": "[encoded data removed]",
      "text/plain": [
       "<Figure size 640x480 with 1 Axes>"
      ]
     },
     "metadata": {},
     "output_type": "display_data"
    }
   ],
   "source": [
    "theta3order = logisticRegression(x, train[\"Survived\"], 3, trainingEpoch)"
   ]
  },
  {
   "cell_type": "code",
   "execution_count": 409,
   "metadata": {},
   "outputs": [
    {
     "name": "stdout",
     "output_type": "stream",
     "text": [
      "Evaluation matrics\n",
      "-------------------------------\n",
      "Precision: 0.7388535032\n",
      "Recall: 0.6783625731\n",
      "F1-score: 0.7073170732\n"
     ]
    }
   ],
   "source": [
    "x_3ndOrder = np.concatenate((x, x**2, x**3, np.ones(nSamples)[ :, np.newaxis]), axis=1)\n",
    "# print(pd.DataFrame(x_3ndOrder).tail())\n",
    "# print(x_3ndOrder.shape)\n",
    "#Gettign the prediction result from training dataset\n",
    "survivingPrediction3 = 1/(1 + np.exp(-np.matmul(x_3ndOrder, theta3order.T)))\n",
    "# print(theta3order)\n",
    "\n",
    "#We could find the best threshold by changing the threshold and evaluating by AUROC\n",
    "#However, threshold tuning need to do in valitation set but test in test set. In this case, we have only validation set, so we use 0.5.\n",
    "# thresholdArr = np.linspace(start=0.3, stop=0.7, num=10)\n",
    "threshold = 0.5\n",
    "\n",
    "survivingPrediction3[np.where(survivingPrediction3 >= threshold)] = 1\n",
    "survivingPrediction3[np.where(survivingPrediction3 < threshold)] = 0\n",
    "\n",
    "print(\"Evaluation matrics\")\n",
    "print(\"-------------------------------\")\n",
    "\n",
    "print(\"Precision: \", end='')\n",
    "Precision = calPrecision(y, survivingPrediction3)\n",
    "print(\"{:.10f}\".format(Precision))\n",
    "\n",
    "print(\"Recall: \", end='')\n",
    "Recall = calRecall(y, survivingPrediction3)\n",
    "print(\"{:.10f}\".format(Recall))\n",
    "\n",
    "print(\"F1-score: \", end='')\n",
    "print(\"{:.10f}\".format(calF1Score(Precision, Recall)))"
   ]
  },
  {
   "cell_type": "markdown",
   "metadata": {},
   "source": [
    "From the model which we increased the order to 2nd and 3rd order, we found that the result of our evaluation metrics in 1st order and 2nd order has a increase in precision, decrease in recall and f1-score. But, from 2nd order to 3rd order has no change in evaluation metrics. This doesn't means that the evalution metrics is wrong, because when we observed the final loss and parameters of the model in training process, we found a little differences. This implies that in this dataset, increasing the order of the model has no impact on model performance."
   ]
  },
  {
   "cell_type": "markdown",
   "metadata": {},
   "source": [
    "### 2.6 Reducing the features to Age and Sex"
   ]
  },
  {
   "cell_type": "code",
   "execution_count": 404,
   "metadata": {},
   "outputs": [
    {
     "name": "stdout",
     "output_type": "stream",
     "text": [
      "Final loss: 0.5149675769273415\n"
     ]
    },
    {
     "data": {
      "image/png": "[encoded data removed]",
      "text/plain": [
       "<Figure size 640x480 with 1 Axes>"
      ]
     },
     "metadata": {},
     "output_type": "display_data"
    }
   ],
   "source": [
    "#Checking whether the NaN filling doing right or not\n",
    "trainFiltered2 = train[[\"Sex\", \"Age\"]].convert_dtypes()\n",
    "\n",
    "#initilizing samples\n",
    "x2 = np.array(trainFiltered2.values, dtype = float)\n",
    "y = train[\"Survived\"].values\n",
    "\n",
    "#initilizing learning rate\n",
    "r = 0.001\n",
    "\n",
    "nFeatures2 = len(x2[0])\n",
    "nSamples2 = len(x2)\n",
    "\n",
    "for i in range(nFeatures2):\n",
    "    minI = min(x2[:, i])\n",
    "    maxI = max(x2[:, i])\n",
    "    x2[:, i] = (x2[:, i] - minI)/(maxI - minI)\n",
    "\n",
    "pd.DataFrame(x2).describe()\n",
    "\n",
    "theta2 = logisticRegression(x2, train[\"Survived\"], 1, trainingEpoch)"
   ]
  },
  {
   "cell_type": "code",
   "execution_count": 410,
   "metadata": {},
   "outputs": [
    {
     "name": "stdout",
     "output_type": "stream",
     "text": [
      "Evaluation matrics\n",
      "-------------------------------\n",
      "Precision: 0.7420382166\n",
      "Recall: 0.6812865497\n",
      "F1-score: 0.7103658537\n"
     ]
    }
   ],
   "source": [
    "x2 = np.concatenate((x2, np.ones(nSamples)[ :, np.newaxis]), axis=1)\n",
    "# print(pd.DataFrame(x_3ndOrder).tail())\n",
    "# print(x_3ndOrder.shape)\n",
    "#Gettign the prediction result from training dataset\n",
    "survivingPrediction4 = 1/(1 + np.exp(-np.matmul(x2, theta2.T)))\n",
    "# print(theta3order)\n",
    "\n",
    "#We could find the best threshold by changing the threshold and evaluating by AUROC\n",
    "#However, threshold tuning need to do in valitation set but test in test set. In this case, we have only validation set, so we use 0.5.\n",
    "# thresholdArr = np.linspace(start=0.3, stop=0.7, num=10)\n",
    "threshold = 0.5\n",
    "\n",
    "survivingPrediction4[np.where(survivingPrediction4 >= threshold)] = 1\n",
    "survivingPrediction4[np.where(survivingPrediction4 < threshold)] = 0\n",
    "\n",
    "print(\"Evaluation matrics\")\n",
    "print(\"-------------------------------\")\n",
    "\n",
    "print(\"Precision: \", end='')\n",
    "Precision = calPrecision(y, survivingPrediction4)\n",
    "print(\"{:.10f}\".format(Precision))\n",
    "\n",
    "print(\"Recall: \", end='')\n",
    "Recall = calRecall(y, survivingPrediction4)\n",
    "print(\"{:.10f}\".format(Recall))\n",
    "\n",
    "print(\"F1-score: \", end='')\n",
    "print(\"{:.10f}\".format(calF1Score(Precision, Recall)))"
   ]
  },
  {
   "cell_type": "markdown",
   "metadata": {},
   "source": [
    "### 2.7 Using Linear Regression instead\n",
    "showing\n",
    "- weights\n",
    "- MSE (loss of train/test set)"
   ]
  },
  {
   "cell_type": "code",
   "execution_count": 405,
   "metadata": {},
   "outputs": [
    {
     "name": "stdout",
     "output_type": "stream",
     "text": [
      "Linear regression weight: \n",
      "[-0.37651381  0.49301968 -0.38038878  0.09027745  0.57467839]\n"
     ]
    },
    {
     "data": {
      "image/png": "[encoded data removed]",
      "text/plain": [
       "<Figure size 640x480 with 1 Axes>"
      ]
     },
     "metadata": {},
     "output_type": "display_data"
    }
   ],
   "source": [
    "def linearRegression(trainingSet, groundTruth, order, epoch):\n",
    "    #initilizing the parameters by the number of features, orders and another bias\n",
    "    theta = np.ones(len(trainingSet[0])*order + 1)\n",
    "    nFeatures = len(theta)\n",
    "    mseLoss = []\n",
    "    \n",
    "    for a in range(epoch):\n",
    "        yHat = np.zeros(len(trainingSet), dtype=float)\n",
    "        #Calculating the result from regression with given order\n",
    "        for i in range(order):\n",
    "            trainingSetPowered = trainingSet**(i+1)\n",
    "            thetaPowered = theta[0 + i*len(trainingSet[0]):len(trainingSet[0]) + i*len(trainingSet[0])]\n",
    "            yHat += np.matmul(trainingSetPowered, thetaPowered.T)\n",
    "        yHat = yHat + theta[nFeatures - 1]\n",
    "        # print(yHat)\n",
    "        #Defining the target output\n",
    "        y = np.array(groundTruth)\n",
    "\n",
    "        #Parameter updating by using the equation derived from partial derivative of MSE with respect to each features\n",
    "        buff = np.zeros(nFeatures)\n",
    "        for od in range(order):\n",
    "            for j in range(len(trainingSet[0])):\n",
    "                for i in range(nSamples):\n",
    "                    buff[j + len(trainingSet[0])*od] += (y[i] - yHat[i])*(trainingSet[i][j]**(od+1))\n",
    "                    if od == 0 and j == 0:\n",
    "                        buff[nFeatures - 1] += (y[i] - yHat[i])*1\n",
    "                #Updating the theta\n",
    "                theta[j + len(trainingSet[0])*od] += r*buff[j + len(trainingSet[0])*od]\n",
    "                if od == 0 and j == 0:\n",
    "                    theta[nFeatures - 1] += r*buff[nFeatures - 1] \n",
    "        #Initial test by run the cell several times to observe the loss (Which loss function need to be used for this observation)\n",
    "        mseLoss.append((1/nSamples)*sum((y - yHat)**2))\n",
    "    \n",
    "    plt.clf()\n",
    "    plt.plot(mseLoss)\n",
    "    plt.xlabel(\"Epoch\")\n",
    "    plt.ylabel(\"MSE loss\")\n",
    "    plt.title(\"Linear regression loss curve\")\n",
    "\n",
    "    return theta\n",
    "\n",
    "thetaLinear = linearRegression(x, train[\"Survived\"], 1, 500)\n",
    "print(\"Linear regression weight: \")\n",
    "print(thetaLinear)"
   ]
  },
  {
   "cell_type": "markdown",
   "metadata": {},
   "source": [
    "### 2.8 Using Matrix inversion to find thetaLinear2"
   ]
  },
  {
   "cell_type": "code",
   "execution_count": 406,
   "metadata": {},
   "outputs": [
    {
     "data": {
      "text/plain": [
       "array([-0.37657417,  0.49299994, -0.3806769 ,  0.09027122,  0.57483068])"
      ]
     },
     "execution_count": 406,
     "metadata": {},
     "output_type": "execute_result"
    }
   ],
   "source": [
    "biasArr = np.ones(nSamples)\n",
    "xMod = np.concatenate((x, biasArr[ :, np.newaxis]), axis=1)\n",
    "thetaLinear2 = np.linalg.inv(xMod.T @ xMod) @ xMod.T @ train[\"Survived\"].values\n",
    "thetaLinear2"
   ]
  },
  {
   "cell_type": "markdown",
   "metadata": {},
   "source": [
    "From 2.7, and 2.8 it's showed that Matrix inversion method can give the same parameters as the iterative gradient decent method, so those parameters are optimal."
   ]
  },
  {
   "cell_type": "markdown",
   "metadata": {},
   "source": [
    "### Listed Questions\n",
    "- Why linear regression is fitted so fast?\n",
    "- What is cross validation and why it's able to detect over fitting?\n",
    "- Cross validation vs train test splitting, which method is better for dectecting overfitting?\n",
    "- Why logLoss (Cross entropy) is needed in logistics regression?"
   ]
  }
 ],
 "metadata": {
  "kernelspec": {
   "display_name": "Python 3",
   "language": "python",
   "name": "python3"
  },
  "language_info": {
   "codemirror_mode": {
    "name": "ipython",
    "version": 3
   },
   "file_extension": ".py",
   "mimetype": "text/x-python",
   "name": "python",
   "nbconvert_exporter": "python",
   "pygments_lexer": "ipython3",
   "version": "3.10.13"
  }
 },
 "nbformat": 4,
 "nbformat_minor": 2
}
